{
 "cells": [
  {
   "cell_type": "code",
   "execution_count": 15,
   "id": "1dfa1cbf",
   "metadata": {},
   "outputs": [],
   "source": [
    "import sys"
   ]
  },
  {
   "cell_type": "code",
   "execution_count": 16,
   "id": "b8636301",
   "metadata": {},
   "outputs": [],
   "source": [
    "sys.path.append(\"..\")"
   ]
  },
  {
   "cell_type": "code",
   "execution_count": 17,
   "id": "96be7457",
   "metadata": {},
   "outputs": [],
   "source": [
    "import torch\n",
    "from src.data.graph import Graph"
   ]
  },
  {
   "cell_type": "code",
   "execution_count": 18,
   "id": "c68c0053",
   "metadata": {},
   "outputs": [
    {
     "name": "stderr",
     "output_type": "stream",
     "text": [
      "'pwd' is not recognized as an internal or external command,\n",
      "operable program or batch file.\n"
     ]
    }
   ],
   "source": [
    "!pwd"
   ]
  },
  {
   "cell_type": "markdown",
   "id": "eefaabbd",
   "metadata": {},
   "source": [
    "#### We will start exploring the graph by instantiating a Graph object. That requires defining an argument dictionary.\n"
   ]
  },
  {
   "cell_type": "code",
   "execution_count": 19,
   "id": "df96e646",
   "metadata": {},
   "outputs": [],
   "source": [
    "args = {\n",
    "        \"graph\": \"karate\",  # name of the graph\n",
    "        \"basepath\": \"../data\",  # path to the directory that has the graph files\n",
    "        \"task\": \"classify\",  # the task\n",
    "        \"test_frac\": 0.20,  #  fraction of the edges to be used as test split\n",
    "        \"val_frac\": 0.20,  #  fraction of the edges to be used as val split\n",
    "        \"gpu\": False  # we don't need a GPU for exploring the graph\n",
    "        } "
   ]
  },
  {
   "cell_type": "markdown",
   "id": "c2e62746",
   "metadata": {},
   "source": []
  },
  {
   "cell_type": "code",
   "execution_count": 20,
   "id": "2f088b83",
   "metadata": {},
   "outputs": [
    {
     "name": "stdout",
     "output_type": "stream",
     "text": [
      "Loading karate dataset...\n",
      "Found 78 edges\n"
     ]
    }
   ],
   "source": [
    "graph = Graph(**args)"
   ]
  },
  {
   "cell_type": "markdown",
   "id": "60b3e1cf",
   "metadata": {},
   "source": [
    "### Each graph object has three important attributes\n",
    "1. Node features\n",
    "2. Node labels\n",
    "3. The adjacency matrix (sparse coo matrix)"
   ]
  },
  {
   "cell_type": "code",
   "execution_count": 21,
   "id": "0c296f9c",
   "metadata": {},
   "outputs": [
    {
     "data": {
      "text/plain": [
       "(34, 34)"
      ]
     },
     "execution_count": 21,
     "metadata": {},
     "output_type": "execute_result"
    }
   ],
   "source": [
    "# extract the number of nodes and features\n",
    "num_nodes, num_features = graph.features.shape\n",
    "num_nodes, num_features"
   ]
  },
  {
   "cell_type": "code",
   "execution_count": 22,
   "id": "9bb0c018",
   "metadata": {},
   "outputs": [
    {
     "data": {
      "text/plain": [
       "tensor([0, 0, 0, 0, 0, 0, 0, 0, 0, 0, 0, 0, 0, 0, 0, 0, 0, 0, 0, 0, 0, 0, 0, 0,\n",
       "        0, 0, 0, 0, 0, 0, 0, 0, 0, 0])"
      ]
     },
     "execution_count": 22,
     "metadata": {},
     "output_type": "execute_result"
    }
   ],
   "source": [
    "graph.labels"
   ]
  },
  {
   "cell_type": "markdown",
   "id": "80973176",
   "metadata": {},
   "source": [
    "##### Extract the ede information"
   ]
  },
  {
   "cell_type": "code",
   "execution_count": 23,
   "id": "7d0ff64c",
   "metadata": {},
   "outputs": [],
   "source": [
    "edges = graph.adj.coalesce().indices().T.tolist()"
   ]
  },
  {
   "cell_type": "code",
   "execution_count": 24,
   "id": "0f5d8341",
   "metadata": {},
   "outputs": [
    {
     "data": {
      "text/plain": [
       "[[0, 0], [0, 1], [0, 2], [0, 3]]"
      ]
     },
     "execution_count": 24,
     "metadata": {},
     "output_type": "execute_result"
    }
   ],
   "source": [
    "edges[:4]  # edges is a list of [node1, node2] elements, indicating an edge between node1 and node 2 "
   ]
  },
  {
   "cell_type": "code",
   "execution_count": 25,
   "id": "a1008da9",
   "metadata": {},
   "outputs": [
    {
     "data": {
      "text/plain": [
       "190"
      ]
     },
     "execution_count": 25,
     "metadata": {},
     "output_type": "execute_result"
    }
   ],
   "source": [
    "num_edges = len(edges);\n",
    "num_edges"
   ]
  },
  {
   "cell_type": "code",
   "execution_count": 26,
   "id": "ec30a460",
   "metadata": {},
   "outputs": [],
   "source": [
    "from collections import defaultdict\n",
    "def find_degree_per_node(edges):\n",
    "    in_degree = defaultdict(int)\n",
    "\n",
    "    for (src, tgt) in edges:\n",
    "        in_degree[tgt] += 1\n",
    "    \n",
    "    avg_in_degree = sum(in_degree.values()) / len(in_degree)\n",
    "    max_in_degree = max(in_degree.values())\n",
    "    min_in_degree = min(in_degree.values())\n",
    "    \n",
    "    \n",
    "    print(avg_in_degree, max_in_degree, min_in_degree)\n",
    "    \n",
    "        "
   ]
  },
  {
   "cell_type": "code",
   "execution_count": 27,
   "id": "f3efd0ad",
   "metadata": {},
   "outputs": [
    {
     "name": "stdout",
     "output_type": "stream",
     "text": [
      "5.588235294117647 18 2\n"
     ]
    }
   ],
   "source": [
    "find_degree_per_node(edges)"
   ]
  },
  {
   "cell_type": "code",
   "execution_count": 29,
   "id": "e55e30aa",
   "metadata": {},
   "outputs": [
    {
     "name": "stdout",
     "output_type": "stream",
     "text": [
      "\n",
      "Analyzing KARATE dataset...\n",
      "Loading karate dataset...\n",
      "Found 78 edges\n",
      "Statistics for KARATE:\n",
      "Maximum in-degree: 18\n",
      "Minimum in-degree: 2\n",
      "Average in-degree: 5.59\n",
      "Number of nodes: 34\n",
      "Number of edges: 190\n",
      "Node feature dimension: 34\n",
      "--------------------------------------------------\n",
      "\n",
      "Analyzing CORA dataset...\n",
      "Loading cora dataset...\n",
      "Found 5429 edges\n",
      "Statistics for CORA:\n",
      "Maximum in-degree: 169\n",
      "Minimum in-degree: 2\n",
      "Average in-degree: 4.90\n",
      "Number of nodes: 2708\n",
      "Number of edges: 13264\n",
      "Node feature dimension: 1433\n",
      "--------------------------------------------------\n",
      "\n",
      "Analyzing CITESEER dataset...\n",
      "Loading citeseer dataset...\n",
      "Found 4715 edges\n",
      "Statistics for CITESEER:\n",
      "Maximum in-degree: 100\n",
      "Minimum in-degree: 1\n",
      "Average in-degree: 3.74\n",
      "Number of nodes: 3312\n",
      "Number of edges: 12384\n",
      "Node feature dimension: 3703\n",
      "--------------------------------------------------\n"
     ]
    }
   ],
   "source": [
    "# Creating a function to analyze any graph as long as it saved in ../data\n",
    "def analyze_graph(graph_name):\n",
    "    args = {\n",
    "        \"graph\": graph_name,  # name of the graph\n",
    "        \"basepath\": \"../data\",  # path to the directory that has the graph files\n",
    "        \"task\": \"classify\",  # the task\n",
    "        \"test_frac\": 0.20,  # fraction of the edges to be used as test split\n",
    "        \"val_frac\": 0.20,  # fraction of the edges to be used as val split\n",
    "        \"gpu\": False  # we don't need a GPU for exploring the graph\n",
    "    }\n",
    "    \n",
    "    print(f\"\\nAnalyzing {graph_name.upper()} dataset...\")\n",
    "    graph = Graph(**args)\n",
    "    \n",
    "    # Get basic stats\n",
    "    num_nodes, num_features = graph.features.shape\n",
    "    edges = graph.adj.coalesce().indices().T.tolist()\n",
    "    num_edges = len(edges)\n",
    "    \n",
    "    # Calculate degrees\n",
    "    from collections import defaultdict\n",
    "    in_degree = defaultdict(int)\n",
    "    for (src, tgt) in edges:\n",
    "        in_degree[tgt] += 1\n",
    "    \n",
    "    avg_in_degree = sum(in_degree.values()) / len(in_degree)\n",
    "    max_in_degree = max(in_degree.values())\n",
    "    min_in_degree = min(in_degree.values())\n",
    "    \n",
    "    # Print results\n",
    "    print(f\"Statistics for {graph_name.upper()}:\")\n",
    "    print(f\"Maximum in-degree: {max_in_degree}\")\n",
    "    print(f\"Minimum in-degree: {min_in_degree}\")\n",
    "    print(f\"Average in-degree: {avg_in_degree:.2f}\")\n",
    "    print(f\"Number of nodes: {num_nodes}\")\n",
    "    print(f\"Number of edges: {num_edges}\")\n",
    "    print(f\"Node feature dimension: {num_features}\")\n",
    "    print(\"-\" * 50)\n",
    "\n",
    "# Analyze all three datasets\n",
    "datasets = [\"karate\", \"cora\", \"citeseer\"]\n",
    "for dataset in datasets:\n",
    "    analyze_graph(dataset)"
   ]
  }
 ],
 "metadata": {
  "kernelspec": {
   "display_name": "Python 3",
   "language": "python",
   "name": "python3"
  },
  "language_info": {
   "codemirror_mode": {
    "name": "ipython",
    "version": 3
   },
   "file_extension": ".py",
   "mimetype": "text/x-python",
   "name": "python",
   "nbconvert_exporter": "python",
   "pygments_lexer": "ipython3",
   "version": "3.11.7"
  }
 },
 "nbformat": 4,
 "nbformat_minor": 5
}
