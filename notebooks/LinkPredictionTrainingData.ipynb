{
 "cells": [
  {
   "cell_type": "code",
   "execution_count": 28,
   "id": "94c97750",
   "metadata": {},
   "outputs": [],
   "source": [
    "import sys\n",
    "sys.path.append(\"..\")\n",
    "import torch\n",
    "from collections import Counter\n",
    "from src.data.graph import Graph"
   ]
  },
  {
   "cell_type": "markdown",
   "id": "adf4d319",
   "metadata": {},
   "source": [
    "### Load the graph"
   ]
  },
  {
   "cell_type": "code",
   "execution_count": 29,
   "id": "f108ff92",
   "metadata": {},
   "outputs": [],
   "source": [
    "args = {\n",
    "        \"graph\": \"cora\",  # name of the graph\n",
    "        \"basepath\": \"../data\",  # path to the directory that has the graph files\n",
    "        \"task\": \"link_pred\",  # the task\n",
    "        \"test_frac\": 0.20,  #  fraction of the edges to be used as test split\n",
    "        \"val_frac\": 0.20,  #  fraction of the edges to be used as val split\n",
    "        \"gpu\": False  # we don't need a GPU for exploring the graph\n",
    "        } "
   ]
  },
  {
   "cell_type": "code",
   "execution_count": 30,
   "id": "21559e39",
   "metadata": {},
   "outputs": [
    {
     "name": "stdout",
     "output_type": "stream",
     "text": [
      "Loading cora dataset...\n"
     ]
    },
    {
     "name": "stderr",
     "output_type": "stream",
     "text": [
      "INFO:root:Loading edges\n"
     ]
    },
    {
     "name": "stdout",
     "output_type": "stream",
     "text": [
      "Found 5429 edges\n"
     ]
    }
   ],
   "source": [
    "graph = Graph(**args)"
   ]
  },
  {
   "cell_type": "markdown",
   "id": "d4da2a1f",
   "metadata": {},
   "source": [
    "#### Explore Edges"
   ]
  },
  {
   "cell_type": "code",
   "execution_count": 31,
   "id": "7c554271",
   "metadata": {},
   "outputs": [
    {
     "data": {
      "text/plain": [
       "torch.Size([2, 7960])"
      ]
     },
     "execution_count": 31,
     "metadata": {},
     "output_type": "execute_result"
    }
   ],
   "source": [
    "graph.train_edges_positive.shape  # (2, num_edges)"
   ]
  },
  {
   "cell_type": "code",
   "execution_count": 32,
   "id": "830547a1",
   "metadata": {},
   "outputs": [
    {
     "data": {
      "text/plain": [
       "torch.Size([15920])"
      ]
     },
     "execution_count": 32,
     "metadata": {},
     "output_type": "execute_result"
    }
   ],
   "source": [
    "graph.train_edge_labels.shape # (num_edges)"
   ]
  },
  {
   "cell_type": "code",
   "execution_count": 33,
   "id": "1c117d14",
   "metadata": {},
   "outputs": [
    {
     "data": {
      "text/plain": [
       "Counter({1: 13264, 0: 13264})"
      ]
     },
     "execution_count": 33,
     "metadata": {},
     "output_type": "execute_result"
    }
   ],
   "source": [
    "Counter(graph.train_edge_labels.tolist() \\\n",
    "        + graph.val_edge_labels.tolist() \\\n",
    "        + graph.test_edge_labels.tolist())  #  total number of positive and negative edges"
   ]
  },
  {
   "cell_type": "code",
   "execution_count": 34,
   "id": "e8e3ee64",
   "metadata": {},
   "outputs": [
    {
     "name": "stderr",
     "output_type": "stream",
     "text": [
      "INFO:root:Loading edges\n"
     ]
    },
    {
     "name": "stdout",
     "output_type": "stream",
     "text": [
      "Link Prediction Training Data Analysis\n",
      "========================================\n",
      "\n",
      "Analyzing KARATE dataset...\n",
      "Loading karate dataset...\n",
      "Found 78 edges\n",
      "\n",
      "Total Edge Distribution:\n",
      "Positive edges: 190\n",
      "Negative edges: 190\n",
      "\n",
      "Analyzing CORA dataset...\n",
      "Loading cora dataset...\n"
     ]
    },
    {
     "name": "stderr",
     "output_type": "stream",
     "text": [
      "INFO:root:Loading edges\n"
     ]
    },
    {
     "name": "stdout",
     "output_type": "stream",
     "text": [
      "Found 5429 edges\n",
      "\n",
      "Total Edge Distribution:\n",
      "Positive edges: 13264\n",
      "Negative edges: 13264\n",
      "\n",
      "Analyzing CITESEER dataset...\n",
      "Loading citeseer dataset...\n",
      "Found 4715 edges\n"
     ]
    },
    {
     "name": "stderr",
     "output_type": "stream",
     "text": [
      "INFO:root:Loading edges\n"
     ]
    },
    {
     "name": "stdout",
     "output_type": "stream",
     "text": [
      "\n",
      "Total Edge Distribution:\n",
      "Positive edges: 12384\n",
      "Negative edges: 12384\n",
      "\n",
      "Summary of Training Data:\n",
      "------------------------------------------------------------\n",
      "Dataset       Positive Edges  Negative Edges\n",
      "------------------------------------------------------------\n",
      "KARATE                   190             190\n",
      "CORA                   13264           13264\n",
      "CITESEER               12384           12384\n",
      "------------------------------------------------------------\n"
     ]
    }
   ],
   "source": [
    "def analyze_dataset(dataset_name):\n",
    "    print(f\"\\nAnalyzing {dataset_name.upper()} dataset...\")\n",
    "    \n",
    "    args = {\n",
    "        \"graph\": dataset_name,\n",
    "        \"basepath\": \"../data\",\n",
    "        \"task\": \"link_pred\",\n",
    "        \"test_frac\": 0.20,\n",
    "        \"val_frac\": 0.20,\n",
    "        \"gpu\": False\n",
    "    }\n",
    "    \n",
    "    graph = Graph(**args)\n",
    "    \n",
    "    # Get all edge labels (train + val + test)\n",
    "    all_edge_counts = Counter(graph.train_edge_labels.tolist() + \n",
    "                            graph.val_edge_labels.tolist() + \n",
    "                            graph.test_edge_labels.tolist())\n",
    "    \n",
    "    print(\"\\nTotal Edge Distribution:\")\n",
    "    print(f\"Positive edges: {all_edge_counts[1]}\")\n",
    "    print(f\"Negative edges: {all_edge_counts[0]}\")\n",
    "    \n",
    "    return all_edge_counts\n",
    "\n",
    "# Analyze all datasets\n",
    "datasets = [\"karate\", \"cora\", \"citeseer\"]\n",
    "\n",
    "print(\"Link Prediction Training Data Analysis\")\n",
    "print(\"=\" * 40)\n",
    "\n",
    "results = {}\n",
    "for dataset in datasets:\n",
    "    results[dataset] = analyze_dataset(dataset)\n",
    "\n",
    "# Print summary table\n",
    "print(\"\\nSummary of Training Data:\")\n",
    "print(\"-\" * 60)\n",
    "print(f\"{'Dataset':<12} {'Positive Edges':>15} {'Negative Edges':>15}\")\n",
    "print(\"-\" * 60)\n",
    "for dataset, counts in results.items():\n",
    "    print(f\"{dataset.upper():<12} {counts[1]:>15} {counts[0]:>15}\")\n",
    "print(\"-\" * 60)"
   ]
  }
 ],
 "metadata": {
  "kernelspec": {
   "display_name": "Python 3",
   "language": "python",
   "name": "python3"
  },
  "language_info": {
   "codemirror_mode": {
    "name": "ipython",
    "version": 3
   },
   "file_extension": ".py",
   "mimetype": "text/x-python",
   "name": "python",
   "nbconvert_exporter": "python",
   "pygments_lexer": "ipython3",
   "version": "3.11.7"
  }
 },
 "nbformat": 4,
 "nbformat_minor": 5
}
